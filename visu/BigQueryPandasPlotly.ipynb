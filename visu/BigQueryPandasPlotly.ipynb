{
 "cells": [
  {
   "cell_type": "code",
   "execution_count": 1,
   "metadata": {},
   "outputs": [
    {
     "data": {
      "text/html": [
       "<script>requirejs.config({paths: { 'plotly': ['https://cdn.plot.ly/plotly-latest.min']},});if(!window.Plotly) {{require(['plotly'],function(plotly) {window.Plotly=plotly;});}}</script>"
      ],
      "text/vnd.plotly.v1+html": [
       "<script>requirejs.config({paths: { 'plotly': ['https://cdn.plot.ly/plotly-latest.min']},});if(!window.Plotly) {{require(['plotly'],function(plotly) {window.Plotly=plotly;});}}</script>"
      ]
     },
     "metadata": {},
     "output_type": "display_data"
    }
   ],
   "source": [
    "# general\n",
    "import datetime as dt\n",
    "\n",
    "# data handling\n",
    "import numpy as np\n",
    "import pandas as pd\n",
    "\n",
    "# plotting\n",
    "import plotly.plotly as py\n",
    "import plotly.graph_objs as go\n",
    "import matplotlib as mpl\n",
    "import matplotlib.pyplot as plt\n",
    "%matplotlib inline\n",
    "\n",
    "# forecasting\n",
    "import fbprophet as prophet\n",
    "\n",
    "# from imports\n",
    "from plotly.tools import FigureFactory as FF\n",
    "from plotly.offline import download_plotlyjs, init_notebook_mode, plot, iplot  # for offline use\n",
    "from pandas.io import gbq\n",
    "\n",
    "from typing import Union, Optional\n",
    "\n",
    "from query import Query  # custom -> export PYTHONPATH=/path/to/query.py\n",
    "from tools import read_ts  # externalized \n",
    "\n",
    "# run plotly offline and initialize notebook plotting\n",
    "init_notebook_mode(connected=True)"
   ]
  },
  {
   "cell_type": "code",
   "execution_count": 2,
   "metadata": {},
   "outputs": [],
   "source": [
    "# matplotlib: setup of figure parameters\n",
    "rcParams = {\"axes.labelsize\": 15,\n",
    "            \"axes.titlesize\": 17,\n",
    "            \"font.size\": 15,\n",
    "            \"legend.fontsize\": 15,\n",
    "            \"xtick.labelsize\": 15,\n",
    "            \"ytick.labelsize\": 15,\n",
    "            \"text.usetex\": False,\n",
    "            \"figure.figsize\": (12, 9)}\n",
    "\n",
    "# update settings above\n",
    "mpl.rcParams.update(rcParams)"
   ]
  },
  {
   "cell_type": "markdown",
   "metadata": {},
   "source": [
    "## Getting data for $\\mathsf{CO},\\ \\mathsf{NO},\\ \\mathsf{NO_2},\\ \\mathsf{O_3}$"
   ]
  },
  {
   "cell_type": "code",
   "execution_count": 4,
   "metadata": {},
   "outputs": [],
   "source": [
    "begin = dt.datetime(year=2017, month=6, day=3, tzinfo=dt.timezone.utc)\n",
    "resample_rule = \"12H\"\n",
    "stationID = 131150\n",
    "texify = {\"CO\": \"$\\\\mathsf{CO}$\",\n",
    "          \"NO\": \"$\\\\mathsf{NO}$\",\n",
    "          \"NO2\": \"$\\\\mathsf{NO}_2$\",\n",
    "          \"O3\": \"$\\\\mathsf{O}_3$\"}"
   ]
  },
  {
   "cell_type": "code",
   "execution_count": null,
   "metadata": {},
   "outputs": [],
   "source": [
    "dfs, dfs_resampled = read_ts(stationID=stationID, data=sorted(list(texify.keys())),\n",
    "                             begin=begin)"
   ]
  },
  {
   "cell_type": "markdown",
   "metadata": {},
   "source": [
    "## Getting data for temperature"
   ]
  },
  {
   "cell_type": "code",
   "execution_count": 5,
   "metadata": {},
   "outputs": [
    {
     "name": "stdout",
     "output_type": "stream",
     "text": [
      "Working on TEMP-dataset...\n"
     ]
    },
    {
     "name": "stderr",
     "output_type": "stream",
     "text": [
      "INFO:pandas_gbq.gbq:Query running...\n",
      "INFO:pandas_gbq.gbq:Total time taken 31.29 s.\n",
      "Finished at 2018-10-17 11:20:23.\n"
     ]
    }
   ],
   "source": [
    "T_query = Query(SELECT=f\"TBTimestamp AS ts, TEMP_Scaled AS TEMP_ts\",\n",
    "                      FROM=\"`exeter-science-unit.airmonitor.airmonitor`\",\n",
    "                      WHERE=f\"UniqueID = {stationID} AND TEMP_Status = 'Valid'\" \n",
    "                            f\" AND TBTimestamp >= '{begin}' AND TBTimestamp <= '{dt.datetime.now(tz=dt.timezone.utc)}'\",\n",
    "                      ORDERBY=\"ts\")\n",
    "\n",
    "T_df, T_df_resampled = read_ts(stationID=stationID, data=\"TEMP\", query=T_query)"
   ]
  },
  {
   "cell_type": "markdown",
   "metadata": {},
   "source": [
    "## Plotting with Pandas "
   ]
  },
  {
   "cell_type": "code",
   "execution_count": null,
   "metadata": {},
   "outputs": [],
   "source": [
    "# figure setup\n",
    "fig = plt.figure(figsize=(16, 10))\n",
    "ax = fig.add_subplot(111)\n",
    "\n",
    "# adding lines to the axis\n",
    "for sl, df in sorted(dfs_resampled.items()):\n",
    "    df.plot(style='-', ms=5, fontsize=12, ax=ax)\n",
    "\n",
    "# legend and scale(s)    \n",
    "ax.legend([texify[key] for key in sorted(list(dfs_resampled.keys()))], fontsize=14)\n",
    "ax.set_yscale('log')\n",
    "\n",
    "# cosmetics\n",
    "ax.set_ylabel(f\"{resample_rule} average [PPB]\", fontsize=14)\n",
    "ax.set_xlabel('Time', fontsize=14)\n",
    "ax.set_title(f\"Station {stationID}\", fontsize=16)\n"
   ]
  },
  {
   "cell_type": "markdown",
   "metadata": {},
   "source": [
    "## Plotting with Plotly"
   ]
  },
  {
   "cell_type": "code",
   "execution_count": null,
   "metadata": {},
   "outputs": [],
   "source": [
    "data = []\n",
    "for sl, df in sorted(dfs_resampled.items()):\n",
    "    data.append(go.Scatter(x=df.index, \n",
    "                           y=getattr(df, f\"{sl}_ts\"),  # get data attribute of DataFrame\n",
    "                           name=sl))  # latex doesn't work right now for plotly for some reason... \n",
    "\n",
    "# setting layout options\n",
    "layout = go.Layout(showlegend=True, title=f\"Station {stationID}\", width=900, height=700)\n",
    "\n",
    "# creating figure object\n",
    "fig = go.Figure(data=data, layout=layout)\n",
    "\n",
    "# cosmetics\n",
    "fig.layout.yaxis.update({'title': f\"{resample_rule} average [PPB]\", 'type': \"log\"})\n",
    "fig.layout.xaxis.update({'title': f\"Time [steps of {resample_rule}]\"})\n",
    "\n",
    "# actual plotting\n",
    "iplot(fig)"
   ]
  },
  {
   "cell_type": "markdown",
   "metadata": {},
   "source": [
    "# Forecasting\n",
    "a humble approach using Facebook's Prophet package"
   ]
  },
  {
   "cell_type": "markdown",
   "metadata": {},
   "source": [
    "## Temperature"
   ]
  },
  {
   "cell_type": "code",
   "execution_count": null,
   "metadata": {},
   "outputs": [],
   "source": [
    "# set the size of training data\n",
    "lim = 950\n",
    "\n",
    "# Prophet requires columns ds (Date) and y (value) \n",
    "train_T = T_df_resampled['TEMP'][:lim]  # set training set\n",
    "test_T = T_df_resampled['TEMP'][lim:]  # set testing set\n",
    "train_T = train_T.rename(columns={'TEMP_ts': 'y'})  # rename column to 'y'\n",
    "train_T['ds'] = train_T.index  # rename column to 'ds'\n",
    "\n",
    "# Make the prophet model and fit on the data using default values, but enforcing yearly seasonality\n",
    "T_prophet = prophet.Prophet(yearly_seasonality=True)\n",
    "T_prophet.fit(train_T)"
   ]
  },
  {
   "cell_type": "code",
   "execution_count": null,
   "metadata": {},
   "outputs": [],
   "source": [
    "# Make a future dataframe in steps of 12H\n",
    "T_forecast = T_prophet.make_future_dataframe(periods=200, freq='12H')\n",
    "\n",
    "# Make predictions\n",
    "T_forecast = T_prophet.predict(T_forecast)  # also contains historical data"
   ]
  },
  {
   "cell_type": "markdown",
   "metadata": {},
   "source": [
    "### Plotting with Pandas"
   ]
  },
  {
   "cell_type": "code",
   "execution_count": null,
   "metadata": {},
   "outputs": [],
   "source": [
    "fig = plt.figure(figsize=(12, 9))\n",
    "ax = fig.add_subplot(111)\n",
    "\n",
    "T_prophet.plot(T_forecast, ax=ax, xlabel=\"Time\", ylabel=\"Temperature $[\\\\degree C]$\")\n",
    "test_T.plot(style='ro', ms=3, ax=ax)\n",
    "leg = ax.legend(['measurements [train]', 'model+forecast', 'measurements [test]'], loc=4)\n",
    "ax.set_title(f\"Historical timeseries + forecast | Station {stationID}\")\n",
    "ax.set_xlabel(\"Time\")  # because somehow the optional argument of prophet.Prophet.plot doesn't work"
   ]
  },
  {
   "cell_type": "markdown",
   "metadata": {},
   "source": [
    "### Plotting with Plotly\n",
    "since we already have the DataFrame it's gonna make things easier.. "
   ]
  },
  {
   "cell_type": "code",
   "execution_count": null,
   "metadata": {},
   "outputs": [],
   "source": [
    "train_trace = go.Scatter(x=train_T.index, \n",
    "                         y=train_T.y,  # get data attribute of DataFrame\n",
    "                         mode=\"markers\",  # setting markers instead of lines\n",
    "                         marker={'size': 5,\n",
    "                                 'color': 'rgb(0, 0, 0)'},  # black\n",
    "                         name=\"[train]\")  # latex doesn't work right now for plotly for some reason... \n",
    "test_trace = go.Scatter(x=test_T.index,\n",
    "                        y=test_T.TEMP_ts,\n",
    "                        mode=\"markers\",\n",
    "                        marker={'size': 5,\n",
    "                                'color': '#d62768'},\n",
    "                        name=\"[test]\")\n",
    "\n",
    "forecast_upper_trace = go.Scatter(x=T_forecast.ds,\n",
    "                                  y=T_forecast.yhat_upper,\n",
    "                                  marker={'color': \"#444\"},\n",
    "                                  line={'width': 0},\n",
    "                                  showlegend=False,\n",
    "                                  name=\"Upper bound\")\n",
    "\n",
    "\n",
    "forecast_lower_trace = go.Scatter(x=T_forecast.ds,\n",
    "                                  y=T_forecast.yhat_lower,\n",
    "                                  fill=\"tonexty\",\n",
    "                                  marker={'color': \"#444\"},\n",
    "                                  line={'width': 0},\n",
    "                                  fillcolor=\"rgba(68, 68, 68, 0.3)\",\n",
    "                                  showlegend=False,\n",
    "                                  name=\"Lower bound\")\n",
    "\n",
    "forecast_trace = go.Scatter(x=T_forecast.ds,\n",
    "                            y=T_forecast.yhat,\n",
    "                            name=\"Model+Forecast\",\n",
    "                            marker={\"color\": \"rgb(31, 119, 180)\"})\n",
    "\n",
    "# order of traces is very important because lower_trace has option \"fill to next y\": it must follow upper trace\n",
    "data = [train_trace, test_trace, forecast_upper_trace, forecast_lower_trace, forecast_trace]\n",
    "\n",
    "# setting layout options\n",
    "layout = go.Layout(showlegend=True, title=f\"Historical timeseries + forecast | Station {stationID}\", \n",
    "                   width=900, height=700)\n",
    "\n",
    "# creating figure object\n",
    "fig = go.Figure(data=data, layout=layout)\n",
    "\n",
    "# cosmetics\n",
    "fig.layout.yaxis.update({'title': f\"{resample_rule}-average Temperature [°C]\"})\n",
    "fig.layout.xaxis.update({'title': f\"Time [steps of {resample_rule}]\"})\n",
    "\n",
    "# actual plotting\n",
    "iplot(fig)"
   ]
  },
  {
   "cell_type": "markdown",
   "metadata": {},
   "source": [
    "## Gases\n",
    "use $\\mathsf{CO}$ as an example"
   ]
  },
  {
   "cell_type": "code",
   "execution_count": null,
   "metadata": {},
   "outputs": [],
   "source": [
    "# set the size of training data\n",
    "lim = 800\n",
    "\n",
    "# Prophet requires columns ds (Date) and y (value) \n",
    "train_df = dfs_resampled['CO'][:lim]  # set training set\n",
    "test_df = dfs_resampled['CO'][lim:]  # set testing set\n",
    "train_df = train_df.rename(columns={'CO_ts': 'y'})  # rename column to 'y'\n",
    "train_df['ds'] = train_df.index  # rename column to 'ds'\n",
    "\n",
    "# Make the prophet model and fit on the data using default values, but enforcing yearly seasonality\n",
    "CO_prophet = prophet.Prophet(changepoint_prior_scale=0.15, yearly_seasonality=True)\n",
    "CO_prophet.fit(train_df)\n",
    "\n",
    "# Make a future dataframe in steps of 12H\n",
    "CO_forecast = CO_prophet.make_future_dataframe(periods=300, freq='12H')\n",
    "\n",
    "# Make predictions\n",
    "CO_forecast = CO_prophet.predict(CO_forecast)  # also contains historical data"
   ]
  },
  {
   "cell_type": "markdown",
   "metadata": {},
   "source": [
    "### Plotting with Pandas again"
   ]
  },
  {
   "cell_type": "code",
   "execution_count": null,
   "metadata": {},
   "outputs": [],
   "source": [
    "fig = plt.figure()\n",
    "ax = fig.add_subplot(111)\n",
    "\n",
    "CO_prophet.plot(CO_forecast, ax=ax, xlabel=\"Time\", ylabel=f\"{resample_rule}-average CO $[PPB]$\")\n",
    "test_df.plot(style='ro', ms=3, ax=ax)\n",
    "leg = ax.legend(['measurements [train]', 'model+forecast', 'measurements [test]'], loc=0)\n",
    "ax.set_title(f\"Historical timeseries + forecast | Station {stationID}\")\n",
    "ax.set_xlabel(\"Time\")  # because somehow the optional argument of prophet.Prophet.plot doesn't work"
   ]
  },
  {
   "cell_type": "markdown",
   "metadata": {},
   "source": [
    "### Plotting with Plotly again"
   ]
  },
  {
   "cell_type": "code",
   "execution_count": null,
   "metadata": {},
   "outputs": [],
   "source": [
    "train_trace = go.Scatter(x=train_df.index, \n",
    "                         y=train_df.y,  # get data attribute of DataFrame\n",
    "                         mode=\"markers\",  # setting markers instead of lines\n",
    "                         marker={'size': 4,\n",
    "                                 'color': 'rgb(0, 0, 0)'},  # black\n",
    "                         name=\"[train]\")  # latex doesn't work right now for plotly for some reason... \n",
    "test_trace = go.Scatter(x=test_df.index,\n",
    "                        y=test_df.CO_ts,\n",
    "                        mode=\"markers\",\n",
    "                        marker={'size': 4,\n",
    "                                'color': '#d62768'},\n",
    "                        name=\"[test]\")\n",
    "\n",
    "forecast_upper_trace = go.Scatter(x=CO_forecast.ds,\n",
    "                                  y=CO_forecast.yhat_upper,\n",
    "                                  marker={'color': \"#444\"},\n",
    "                                  line={'width': 0},\n",
    "                                  showlegend=False,\n",
    "                                  name=\"Upper bound\")\n",
    "\n",
    "\n",
    "forecast_lower_trace = go.Scatter(x=CO_forecast.ds,\n",
    "                                  y=CO_forecast.yhat_lower,\n",
    "                                  fill=\"tonexty\",\n",
    "                                  marker={'color': \"#444\"},\n",
    "                                  line={'width': 0},\n",
    "                                  fillcolor=\"rgba(68, 68, 68, 0.3)\",\n",
    "                                  showlegend=False,\n",
    "                                  name=\"Lower bound\")\n",
    "\n",
    "forecast_trace = go.Scatter(x=CO_forecast.ds,\n",
    "                            y=CO_forecast.yhat,\n",
    "                            name=\"Model+Forecast\",\n",
    "                            marker={\"color\": \"rgb(31, 119, 180)\"},\n",
    "                            line={'width': 1.5})\n",
    "\n",
    "# order of traces is very important because lower_trace has option \"fill to next y\": it must follow upper trace\n",
    "data = [train_trace, test_trace, forecast_upper_trace, forecast_lower_trace, forecast_trace]\n",
    "\n",
    "# setting layout options\n",
    "layout = go.Layout(showlegend=True, title=f\"Historical timeseries + forecast | Station {stationID}\", \n",
    "                   width=900, height=700)\n",
    "\n",
    "# creating figure object\n",
    "fig = go.Figure(data=data, layout=layout)\n",
    "\n",
    "# cosmetics\n",
    "fig.layout.yaxis.update({'title': f\"{resample_rule}-average CO [PPB]\"})\n",
    "fig.layout.xaxis.update({'title': f\"Time [steps of {resample_rule}]\"})\n",
    "\n",
    "# actual plotting\n",
    "iplot(fig)"
   ]
  },
  {
   "cell_type": "code",
   "execution_count": null,
   "metadata": {},
   "outputs": [],
   "source": []
  }
 ],
 "metadata": {
  "kernelspec": {
   "display_name": "Python 3",
   "language": "python",
   "name": "python3"
  },
  "language_info": {
   "codemirror_mode": {
    "name": "ipython",
    "version": 3
   },
   "file_extension": ".py",
   "mimetype": "text/x-python",
   "name": "python",
   "nbconvert_exporter": "python",
   "pygments_lexer": "ipython3",
   "version": "3.7.0"
  }
 },
 "nbformat": 4,
 "nbformat_minor": 2
}
