{
 "cells": [
  {
   "cell_type": "code",
   "execution_count": 3,
   "metadata": {},
   "outputs": [
    {
     "data": {
      "text/html": [
       "<script>requirejs.config({paths: { 'plotly': ['https://cdn.plot.ly/plotly-latest.min']},});if(!window.Plotly) {{require(['plotly'],function(plotly) {window.Plotly=plotly;});}}</script>"
      ],
      "text/vnd.plotly.v1+html": [
       "<script>requirejs.config({paths: { 'plotly': ['https://cdn.plot.ly/plotly-latest.min']},});if(!window.Plotly) {{require(['plotly'],function(plotly) {window.Plotly=plotly;});}}</script>"
      ]
     },
     "metadata": {},
     "output_type": "display_data"
    }
   ],
   "source": [
    "# general\n",
    "import datetime as dt\n",
    "\n",
    "# data handling\n",
    "import numpy as np\n",
    "import pandas as pd\n",
    "\n",
    "# plotting\n",
    "import plotly.plotly as py\n",
    "import plotly.graph_objs as go\n",
    "import matplotlib as mpl\n",
    "import matplotlib.pyplot as plt\n",
    "%matplotlib inline\n",
    "\n",
    "# forecasting\n",
    "import fbprophet as prophet\n",
    "\n",
    "# from imports\n",
    "from plotly.tools import FigureFactory as FF\n",
    "from plotly.offline import download_plotlyjs, init_notebook_mode, plot, iplot  # for offline use\n",
    "from pandas.io import gbq\n",
    "\n",
    "from typing import Union, Optional\n",
    "\n",
    "from query import Query  # custom -> export PYTHONPATH=/path/to/query.py\n",
    "from tools import read_ts, bounded_graph  # externalized \n",
    "\n",
    "# run plotly offline and initialize notebook plotting\n",
    "init_notebook_mode(connected=True)"
   ]
  },
  {
   "cell_type": "code",
   "execution_count": 2,
   "metadata": {},
   "outputs": [],
   "source": [
    "# matplotlib: setup of figure parameters\n",
    "rcParams = {\"axes.labelsize\": 15,\n",
    "            \"axes.titlesize\": 17,\n",
    "            \"font.size\": 15,\n",
    "            \"legend.fontsize\": 15,\n",
    "            \"xtick.labelsize\": 15,\n",
    "            \"ytick.labelsize\": 15,\n",
    "            \"text.usetex\": False,\n",
    "            \"figure.figsize\": (12, 9)}\n",
    "\n",
    "# update settings above\n",
    "mpl.rcParams.update(rcParams)"
   ]
  },
  {
   "cell_type": "code",
   "execution_count": null,
   "metadata": {},
   "outputs": [],
   "source": []
  }
 ],
 "metadata": {
  "kernelspec": {
   "display_name": "Python 3",
   "language": "python",
   "name": "python3"
  },
  "language_info": {
   "codemirror_mode": {
    "name": "ipython",
    "version": 3
   },
   "file_extension": ".py",
   "mimetype": "text/x-python",
   "name": "python",
   "nbconvert_exporter": "python",
   "pygments_lexer": "ipython3",
   "version": "3.7.0"
  }
 },
 "nbformat": 4,
 "nbformat_minor": 2
}
